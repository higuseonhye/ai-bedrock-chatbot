{
  "nbformat": 4,
  "nbformat_minor": 0,
  "metadata": {
    "colab": {
      "provenance": [],
      "machine_shape": "hm",
      "gpuType": "A100",
      "authorship_tag": "ABX9TyPj6y+RA0zCztpX0ouvpLcE",
      "include_colab_link": true
    },
    "kernelspec": {
      "name": "python3",
      "display_name": "Python 3"
    },
    "language_info": {
      "name": "python"
    },
    "accelerator": "GPU"
  },
  "cells": [
    {
      "cell_type": "markdown",
      "metadata": {
        "id": "view-in-github",
        "colab_type": "text"
      },
      "source": [
        "<a href=\"https://colab.research.google.com/github/higuseonhye/ai-bedrock-chatbot/blob/main/ai_chat_test.ipynb\" target=\"_parent\"><img src=\"https://colab.research.google.com/assets/colab-badge.svg\" alt=\"Open In Colab\"/></a>"
      ]
    },
    {
      "cell_type": "code",
      "execution_count": 1,
      "metadata": {
        "colab": {
          "base_uri": "https://localhost:8080/"
        },
        "id": "crA1hTu_dUyo",
        "outputId": "0187ab4a-4709-4245-bd8b-17156c57e2ed"
      },
      "outputs": [
        {
          "output_type": "stream",
          "name": "stdout",
          "text": [
            "Collecting boto3\n",
            "  Downloading boto3-1.40.9-py3-none-any.whl.metadata (6.7 kB)\n",
            "Collecting python-dotenv\n",
            "  Downloading python_dotenv-1.1.1-py3-none-any.whl.metadata (24 kB)\n",
            "Collecting botocore<1.41.0,>=1.40.9 (from boto3)\n",
            "  Downloading botocore-1.40.9-py3-none-any.whl.metadata (5.7 kB)\n",
            "Collecting jmespath<2.0.0,>=0.7.1 (from boto3)\n",
            "  Downloading jmespath-1.0.1-py3-none-any.whl.metadata (7.6 kB)\n",
            "Collecting s3transfer<0.14.0,>=0.13.0 (from boto3)\n",
            "  Downloading s3transfer-0.13.1-py3-none-any.whl.metadata (1.7 kB)\n",
            "Requirement already satisfied: python-dateutil<3.0.0,>=2.1 in /usr/local/lib/python3.11/dist-packages (from botocore<1.41.0,>=1.40.9->boto3) (2.9.0.post0)\n",
            "Requirement already satisfied: urllib3!=2.2.0,<3,>=1.25.4 in /usr/local/lib/python3.11/dist-packages (from botocore<1.41.0,>=1.40.9->boto3) (2.5.0)\n",
            "Requirement already satisfied: six>=1.5 in /usr/local/lib/python3.11/dist-packages (from python-dateutil<3.0.0,>=2.1->botocore<1.41.0,>=1.40.9->boto3) (1.17.0)\n",
            "Downloading boto3-1.40.9-py3-none-any.whl (140 kB)\n",
            "\u001b[2K   \u001b[90m━━━━━━━━━━━━━━━━━━━━━━━━━━━━━━━━━━━━━━━━\u001b[0m \u001b[32m140.1/140.1 kB\u001b[0m \u001b[31m6.5 MB/s\u001b[0m eta \u001b[36m0:00:00\u001b[0m\n",
            "\u001b[?25hDownloading python_dotenv-1.1.1-py3-none-any.whl (20 kB)\n",
            "Downloading botocore-1.40.9-py3-none-any.whl (14.0 MB)\n",
            "\u001b[2K   \u001b[90m━━━━━━━━━━━━━━━━━━━━━━━━━━━━━━━━━━━━━━━━\u001b[0m \u001b[32m14.0/14.0 MB\u001b[0m \u001b[31m128.7 MB/s\u001b[0m eta \u001b[36m0:00:00\u001b[0m\n",
            "\u001b[?25hDownloading jmespath-1.0.1-py3-none-any.whl (20 kB)\n",
            "Downloading s3transfer-0.13.1-py3-none-any.whl (85 kB)\n",
            "\u001b[2K   \u001b[90m━━━━━━━━━━━━━━━━━━━━━━━━━━━━━━━━━━━━━━━━\u001b[0m \u001b[32m85.3/85.3 kB\u001b[0m \u001b[31m8.8 MB/s\u001b[0m eta \u001b[36m0:00:00\u001b[0m\n",
            "\u001b[?25hInstalling collected packages: python-dotenv, jmespath, botocore, s3transfer, boto3\n",
            "Successfully installed boto3-1.40.9 botocore-1.40.9 jmespath-1.0.1 python-dotenv-1.1.1 s3transfer-0.13.1\n",
            "✅ AWS 자격증명 설정 완료!\n"
          ]
        }
      ],
      "source": [
        "# 🚀 AWS Bedrock + AI Agent Setup in Google Colab\n",
        "# 필요한 라이브러리 설치\n",
        "!pip install boto3 python-dotenv\n",
        "\n",
        "# AWS 자격증명 설정 (여기에 실제 키를 입력하세요)\n",
        "import os\n",
        "os.environ['AWS_ACCESS_KEY_ID'] = 'YOUR_AWS_ACCESS_KEY_ID'\n",
        "os.environ['AWS_SECRET_ACCESS_KEY'] = 'YOUR_AWS_SECRET_ACCESS_KEY'\n",
        "os.environ['AWS_DEFAULT_REGION'] = 'us-east-1'\n",
        "\n",
        "print(\"✅ AWS 자격증명 설정 완료!\")"
      ]
    },
    {
      "cell_type": "code",
      "source": [
        "# AI Agent 코드 (현재 로컬 파일과 동일)\n",
        "import json\n",
        "import boto3\n",
        "from datetime import datetime\n",
        "\n",
        "class ColabAIAgent:\n",
        "    def __init__(self):\n",
        "        self.bedrock = boto3.client('bedrock-runtime', region_name='us-east-1')\n",
        "        self.model_id = 'anthropic.claude-3-sonnet-20240229-v1:0'\n",
        "\n",
        "    def chat(self, message: str):\n",
        "        try:\n",
        "            request_body = {\n",
        "                \"anthropic_version\": \"bedrock-2023-05-31\",\n",
        "                \"max_tokens\": 1000,\n",
        "                \"temperature\": 0.7,\n",
        "                \"messages\": [{\"role\": \"user\", \"content\": message}]\n",
        "            }\n",
        "\n",
        "            response = self.bedrock.invoke_model(\n",
        "                modelId=self.model_id,\n",
        "                body=json.dumps(request_body)\n",
        "            )\n",
        "\n",
        "            result = json.loads(response['body'].read())\n",
        "            return {\n",
        "                \"success\": True,\n",
        "                \"response\": result['content'][0]['text'],\n",
        "                \"environment\": \"Google Colab\",\n",
        "                \"timestamp\": datetime.utcnow().isoformat()\n",
        "            }\n",
        "\n",
        "        except Exception as e:\n",
        "            return {\n",
        "                \"success\": False,\n",
        "                \"error\": str(e),\n",
        "                \"suggestion\": \"AWS 자격증명을 확인하세요\"\n",
        "            }\n",
        "\n",
        "# 테스트 실행\n",
        "agent = ColabAIAgent()\n",
        "result = agent.chat(\"Hello! Explain AWS Bedrock in simple terms.\")\n",
        "\n",
        "if result['success']:\n",
        "    print(\"🎉 성공!\")\n",
        "    print(f\"🤖 AI 응답: {result['response']}\")\n",
        "else:\n",
        "    print(f\"❌ 오류: {result['error']}\")"
      ],
      "metadata": {
        "colab": {
          "base_uri": "https://localhost:8080/"
        },
        "id": "bZ8lrLwPdkEw",
        "outputId": "6e50148e-db33-4d0c-a2ca-8829eecb0a5c"
      },
      "execution_count": 2,
      "outputs": [
        {
          "output_type": "stream",
          "name": "stdout",
          "text": [
            "🎉 성공!\n",
            "🤖 AI 응답: AWS Bedrock is a new open-source project introduced by Amazon Web Services (AWS) that aims to provide a comprehensive and secure foundation for building and deploying applications on AWS. It is designed to simplify the process of setting up and managing the infrastructure required for modern cloud-native applications.\n",
            "\n",
            "In simple terms, AWS Bedrock can be thought of as a collection of pre-configured building blocks or templates that follow best practices and industry standards. These building blocks cover various aspects of application infrastructure, such as networking, security, observability, and deployment pipelines.\n",
            "\n",
            "Here's a breakdown of what AWS Bedrock offers:\n",
            "\n",
            "1. Infrastructure as Code (IaC): AWS Bedrock uses IaC principles, which means that the entire infrastructure is defined and managed using code. This allows for consistent and repeatable deployments, as well as version control and collaboration.\n",
            "\n",
            "2. Modular Architecture: Bedrock is designed with a modular approach, allowing you to pick and choose the components you need for your specific application requirements. This modularity promotes flexibility and scalability.\n",
            "\n",
            "3. Best Practices: Bedrock incorporates AWS best practices for security, reliability, and operational excellence. It follows well-architected principles and industry standards, ensuring that your infrastructure is built on a solid foundation.\n",
            "\n",
            "4. Multi-Account and Multi-Region Support: Bedrock supports deployments across multiple AWS accounts and regions, enabling you to implement advanced architectures and meet compliance requirements.\n",
            "\n",
            "5. Observability and Monitoring: Bedrock includes components for monitoring, logging, and observability, providing visibility into your applications and infrastructure.\n",
            "\n",
            "6. Deployment Pipelines: Bedrock includes deployment pipelines for automated and consistent delivery of your applications and infrastructure changes.\n",
            "\n",
            "Overall, AWS Bedrock aims to simplify and standardize the process of building and deploying cloud-native applications on AWS. By providing pre-configured and battle-tested components, it helps reduce the complexity and time required to set up a secure and reliable infrastructure, allowing you to focus more on building and delivering your applications.\n"
          ]
        }
      ]
    }
  ]
}